{
 "cells": [
  {
   "cell_type": "code",
   "execution_count": 60,
   "metadata": {},
   "outputs": [],
   "source": [
    "import pandas as pd\n",
    "import numpy as np\n",
    "import matplotlib.pyplot as plt\n",
    "df = pd.DataFrame()"
   ]
  },
  {
   "cell_type": "code",
   "execution_count": 61,
   "metadata": {},
   "outputs": [],
   "source": [
    "x1 = [1,0,1,0]\n",
    "x2 = [1,0,0,1]\n",
    "yd = [0,0,1,1]\n",
    "n = 0.25"
   ]
  },
  {
   "cell_type": "code",
   "execution_count": 62,
   "metadata": {},
   "outputs": [],
   "source": [
    "df['x1'] = x1\n",
    "df['x2'] = x2\n",
    "df['Y'] = yd"
   ]
  },
  {
   "cell_type": "code",
   "execution_count": 63,
   "metadata": {},
   "outputs": [],
   "source": [
    "def sigmoide(I):\n",
    "    resultado = 1/(1+np.e**(-1*I))\n",
    "    return resultado"
   ]
  },
  {
   "cell_type": "code",
   "execution_count": 64,
   "metadata": {},
   "outputs": [],
   "source": [
    "def redondear(lista):\n",
    "    for i in range(0,len(lista)):\n",
    "        lista[i] = round(lista[i],4)\n",
    "    return lista"
   ]
  },
  {
   "cell_type": "code",
   "execution_count": 65,
   "metadata": {},
   "outputs": [],
   "source": [
    "w = [0.2785,0.9575,0.5469,0.9649]\n",
    "v = [0.1576,0.9706,0,0]\n",
    "error = []\n",
    "epocas_list = []\n",
    "\n",
    "df['w_inicial'] = w\n",
    "df['v_inicial'] = v"
   ]
  },
  {
   "cell_type": "code",
   "execution_count": 66,
   "metadata": {},
   "outputs": [],
   "source": [
    "for epocas in range(0,21):\n",
    "    for t in range(0,len(x1)):\n",
    "        I_11 = round(x1[t]*w[0] + x2[t]*w[1],4) \n",
    "        I_21 = round(x1[t]*w[2] + x2[t]*w[3],4)\n",
    "        \n",
    "        y_11 = round(sigmoide(I_11),4)\n",
    "        y_21 = round(sigmoide(I_21),4)\n",
    "        \n",
    "        I_12 = round(y_11*v[0] + y_21*v[1],4)\n",
    "        y_12 = round(sigmoide(I_12),4)\n",
    "        \n",
    "        S_12 = round(yd[t] - y_12,4)\n",
    "        S_11 = round(v[0]*S_12,4)\n",
    "        S_21 = round(v[1]*S_12,4)\n",
    "        \n",
    "        w[0] += n*S_11*y_11*(1-y_11)*x1[t]\n",
    "        w[1] += n*S_11*y_11*(1-y_11)*x2[t]\n",
    "        w[2] += n*S_21*y_21*(1-y_21)*x1[t]\n",
    "        w[3] += n*S_21*y_21*(1-y_21)*x2[t]\n",
    "        \n",
    "        v[0] += n*S_12*y_12*(1-y_12)*y_11\n",
    "        v[1] += n*S_12*y_12*(1-y_12)*y_21   \n",
    "        \n",
    "        redondear(w)\n",
    "        redondear(v)\n",
    "        \n",
    "    error.append(S_12)\n",
    "    epocas_list.append(epocas)"
   ]
  },
  {
   "cell_type": "code",
   "execution_count": 67,
   "metadata": {},
   "outputs": [],
   "source": [
    "resultado = []\n",
    "for t in range(0,len(x1)):\n",
    "    I_11 = round(x1[t]*w[0] + x2[t]*w[1],4) \n",
    "    I_21 = round(x1[t]*w[2] + x2[t]*w[3],4)\n",
    "        \n",
    "    y_11 = round(sigmoide(I_11),4)\n",
    "    y_21 = round(sigmoide(I_21),4)\n",
    "        \n",
    "    I_12 = round(y_11*v[0] + y_21*v[1],4)\n",
    "    y_12 = round(sigmoide(I_12),4)\n",
    "    \n",
    "    resultado.append(y_12)"
   ]
  },
  {
   "cell_type": "code",
   "execution_count": 68,
   "metadata": {},
   "outputs": [
    {
     "data": {
      "text/html": [
       "<div>\n",
       "<style scoped>\n",
       "    .dataframe tbody tr th:only-of-type {\n",
       "        vertical-align: middle;\n",
       "    }\n",
       "\n",
       "    .dataframe tbody tr th {\n",
       "        vertical-align: top;\n",
       "    }\n",
       "\n",
       "    .dataframe thead th {\n",
       "        text-align: right;\n",
       "    }\n",
       "</style>\n",
       "<table border=\"1\" class=\"dataframe\">\n",
       "  <thead>\n",
       "    <tr style=\"text-align: right;\">\n",
       "      <th></th>\n",
       "      <th>x1</th>\n",
       "      <th>x2</th>\n",
       "      <th>Y</th>\n",
       "      <th>w_inicial</th>\n",
       "      <th>v_inicial</th>\n",
       "      <th>w_resultante</th>\n",
       "      <th>v_resultante</th>\n",
       "      <th>y_resultado</th>\n",
       "    </tr>\n",
       "  </thead>\n",
       "  <tbody>\n",
       "    <tr>\n",
       "      <th>0</th>\n",
       "      <td>1</td>\n",
       "      <td>1</td>\n",
       "      <td>0</td>\n",
       "      <td>0.2785</td>\n",
       "      <td>0.1576</td>\n",
       "      <td>0.2503</td>\n",
       "      <td>-0.1825</td>\n",
       "      <td>0.5877</td>\n",
       "    </tr>\n",
       "    <tr>\n",
       "      <th>1</th>\n",
       "      <td>0</td>\n",
       "      <td>0</td>\n",
       "      <td>0</td>\n",
       "      <td>0.9575</td>\n",
       "      <td>0.9706</td>\n",
       "      <td>0.9432</td>\n",
       "      <td>0.6246</td>\n",
       "      <td>0.5551</td>\n",
       "    </tr>\n",
       "    <tr>\n",
       "      <th>2</th>\n",
       "      <td>1</td>\n",
       "      <td>0</td>\n",
       "      <td>1</td>\n",
       "      <td>0.5469</td>\n",
       "      <td>0.0000</td>\n",
       "      <td>0.4841</td>\n",
       "      <td>0.0000</td>\n",
       "      <td>0.5705</td>\n",
       "    </tr>\n",
       "    <tr>\n",
       "      <th>3</th>\n",
       "      <td>0</td>\n",
       "      <td>1</td>\n",
       "      <td>1</td>\n",
       "      <td>0.9649</td>\n",
       "      <td>0.0000</td>\n",
       "      <td>0.8509</td>\n",
       "      <td>0.0000</td>\n",
       "      <td>0.5760</td>\n",
       "    </tr>\n",
       "  </tbody>\n",
       "</table>\n",
       "</div>"
      ],
      "text/plain": [
       "   x1  x2  Y  w_inicial  v_inicial  w_resultante  v_resultante  y_resultado\n",
       "0   1   1  0     0.2785     0.1576        0.2503       -0.1825       0.5877\n",
       "1   0   0  0     0.9575     0.9706        0.9432        0.6246       0.5551\n",
       "2   1   0  1     0.5469     0.0000        0.4841        0.0000       0.5705\n",
       "3   0   1  1     0.9649     0.0000        0.8509        0.0000       0.5760"
      ]
     },
     "execution_count": 68,
     "metadata": {},
     "output_type": "execute_result"
    }
   ],
   "source": [
    "df['w_resultante'] = w\n",
    "df['v_resultante']= v\n",
    "df['y_resultado'] = resultado\n",
    "df"
   ]
  },
  {
   "cell_type": "code",
   "execution_count": 69,
   "metadata": {},
   "outputs": [
    {
     "data": {
      "image/png": "[encoded data removed]",
      "text/plain": [
       "<Figure size 640x480 with 1 Axes>"
      ]
     },
     "metadata": {},
     "output_type": "display_data"
    }
   ],
   "source": [
    "import seaborn as sns\n",
    "\n",
    "sns.scatterplot(data = df, x = 'Y', y = 'y_resultado', hue = 'Y')\n",
    "plt.show()\n"
   ]
  },
  {
   "cell_type": "code",
   "execution_count": 70,
   "metadata": {},
   "outputs": [
    {
     "data": {
      "text/plain": [
       "[<matplotlib.lines.Line2D at 0x181d155d1d0>]"
      ]
     },
     "execution_count": 70,
     "metadata": {},
     "output_type": "execute_result"
    },
    {
     "data": {
      "image/png": "[encoded data removed]",
      "text/plain": [
       "<Figure size 640x480 with 1 Axes>"
      ]
     },
     "metadata": {},
     "output_type": "display_data"
    }
   ],
   "source": [
    "plt.plot(epocas_list,error,'.-')"
   ]
  }
 ],
 "metadata": {
  "kernelspec": {
   "display_name": "Python 3",
   "language": "python",
   "name": "python3"
  },
  "language_info": {
   "codemirror_mode": {
    "name": "ipython",
    "version": 3
   },
   "file_extension": ".py",
   "mimetype": "text/x-python",
   "name": "python",
   "nbconvert_exporter": "python",
   "pygments_lexer": "ipython3",
   "version": "3.11.3"
  },
  "orig_nbformat": 4
 },
 "nbformat": 4,
 "nbformat_minor": 2
}
